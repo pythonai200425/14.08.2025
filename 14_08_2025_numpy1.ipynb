{
 "cells": [
  {
   "cell_type": "code",
   "execution_count": 4,
   "id": "363f2a91-eaaa-40af-81ef-5b7161ceed5d",
   "metadata": {},
   "outputs": [
    {
     "name": "stdout",
     "output_type": "stream",
     "text": [
      "Defaulting to user installation because normal site-packages is not writeable\n",
      "Requirement already satisfied: numpy in c:\\programdata\\anaconda3\\lib\\site-packages (1.26.4)\n",
      "Note: you may need to restart the kernel to use updated packages.\n"
     ]
    }
   ],
   "source": [
    "pip install numpy"
   ]
  },
  {
   "cell_type": "code",
   "execution_count": 6,
   "id": "6df0b7f3-f3b0-449c-917f-8c7a982445a2",
   "metadata": {},
   "outputs": [
    {
     "data": {
      "text/plain": [
       "<module 'numpy' from 'C:\\\\ProgramData\\\\anaconda3\\\\Lib\\\\site-packages\\\\numpy\\\\__init__.py'>"
      ]
     },
     "execution_count": 6,
     "metadata": {},
     "output_type": "execute_result"
    }
   ],
   "source": [
    "import numpy as np\n",
    "np"
   ]
  },
  {
   "cell_type": "code",
   "execution_count": 10,
   "id": "05060764-237d-4b35-935a-0b419c52974f",
   "metadata": {},
   "outputs": [
    {
     "name": "stdout",
     "output_type": "stream",
     "text": [
      "<class 'numpy.ndarray'> [8 0 0]\n",
      "<class 'list'> [1, 2, 3]\n"
     ]
    },
    {
     "data": {
      "text/plain": [
       "dtype('int32')"
      ]
     },
     "execution_count": 10,
     "metadata": {},
     "output_type": "execute_result"
    }
   ],
   "source": [
    "# create np array\n",
    "first = np.array([8.99999, .2, .3], dtype=int)\n",
    "\n",
    "l1 = [1, 2, 3]  # list\n",
    "np.array(l1)  # creates the np array from a list\n",
    "\n",
    "print(type(first), first)\n",
    "print(type(l1), l1)\n",
    "\n",
    "first.dtype"
   ]
  },
  {
   "cell_type": "code",
   "execution_count": 9,
   "id": "352d3607-bd68-40b8-a0f9-8b88f75a8260",
   "metadata": {},
   "outputs": [
    {
     "name": "stdout",
     "output_type": "stream",
     "text": [
      "Data-type of the array's elements.\n",
      "\n",
      ".. warning::\n",
      "\n",
      "    Setting ``arr.dtype`` is discouraged and may be deprecated in the\n",
      "    future.  Setting will replace the ``dtype`` without modifying the\n",
      "    memory (see also `ndarray.view` and `ndarray.astype`).\n",
      "\n",
      "Parameters\n",
      "----------\n",
      "None\n",
      "\n",
      "Returns\n",
      "-------\n",
      "d : numpy dtype object\n",
      "\n",
      "See Also\n",
      "--------\n",
      "ndarray.astype : Cast the values contained in the array to a new data-type.\n",
      "ndarray.view : Create a view of the same data but a different data-type.\n",
      "numpy.dtype\n",
      "\n",
      "Examples\n",
      "--------\n",
      ">>> x\n",
      "array([[0, 1],\n",
      "       [2, 3]])\n",
      ">>> x.dtype\n",
      "dtype('int32')\n",
      ">>> type(x.dtype)\n",
      "<type 'numpy.dtype'>\n"
     ]
    }
   ],
   "source": [
    "# show numpy help of a command, like shift + tab\n",
    "np.info(np.ndarray.dtype)"
   ]
  },
  {
   "cell_type": "code",
   "execution_count": 11,
   "id": "b4f90054-ee17-4b7b-a2fe-e5e6db77c2b1",
   "metadata": {},
   "outputs": [
    {
     "name": "stdout",
     "output_type": "stream",
     "text": [
      "it took 3.141441 seconds\n",
      "it took 0.073985 seconds\n"
     ]
    }
   ],
   "source": [
    "import time\n",
    "import numpy as np\n",
    "\n",
    "def add_lists(a, b):\n",
    "    result = []\n",
    "    for i in range(min(len(a), len(b))):\n",
    "        result.append(a[i] + b[i])\n",
    "    return result\n",
    "\n",
    "def add_numpy(a, b):\n",
    "    result = a + b\n",
    "\n",
    "########## create\n",
    "n = 10 ** 7\n",
    "a_list = list(range(n))\n",
    "b_list = list(range(n))\n",
    "\n",
    "np_a = np.array(a_list)\n",
    "np_b = np.array(b_list)\n",
    "\n",
    "########## measure list\n",
    "\n",
    "start = time.time()\n",
    "\n",
    "add_lists(a_list, b_list)\n",
    "\n",
    "end = time.time()\n",
    "print(f\"it took {end - start:.6f} seconds\")\n",
    "\n",
    "########## measure numpy\n",
    "\n",
    "start = time.time()\n",
    "\n",
    "add_numpy(np_a, np_b)\n",
    "\n",
    "end = time.time()\n",
    "print(f\"it took {end - start:.6f} seconds\")"
   ]
  },
  {
   "cell_type": "code",
   "execution_count": 13,
   "id": "6d3edd26-cd9d-4838-be33-3c6127946f56",
   "metadata": {},
   "outputs": [],
   "source": [
    "np.random.seed(42)"
   ]
  },
  {
   "cell_type": "code",
   "execution_count": 14,
   "id": "c208423b-0acc-4cbd-b9b0-c00cb0707e71",
   "metadata": {},
   "outputs": [
    {
     "data": {
      "text/plain": [
       "array([[51, 92, 14, 71, 60],\n",
       "       [20, 82, 86, 74, 74]])"
      ]
     },
     "execution_count": 14,
     "metadata": {},
     "output_type": "execute_result"
    }
   ],
   "source": [
    "rand_array = np.random.randint(0, 101, (2,5))\n",
    "rand_array"
   ]
  },
  {
   "cell_type": "code",
   "execution_count": 15,
   "id": "f2f18665-9541-4708-ba52-623054f65fd4",
   "metadata": {},
   "outputs": [],
   "source": [
    "# 1. Make a Python list of integers [1, 2, 3, 4, 5] and convert it to a NumPy array\n",
    "# 2. Create a NumPy array from the list [1, 2, 3, 4, 5, 6] and reshape it into:\n",
    "#    Shape (2, 3)\n",
    "#    Shape (3, 2)\n",
    "# 3. Create with zeros\n",
    "#    Create a 3×4 array filled with zeros\n",
    "# 4. Create with ones\n",
    "#    Create a 2×5 array filled with ones\n",
    "# 5. Create with random numbers between 0–1\n",
    "#    Create a 4×4 array with random floats between 0 and 1\n",
    "# 6. Create with random numbers between 10–100\n",
    "#    Create a 3×3 array with random integers between 10 and 100\n",
    "# 7. Same as above but with seed 42\n",
    "#    Set NumPy’s random seed to 42 and generate the 3×3 random integer array again\n",
    "# 7.1. Reshape it\n",
    "#    Take the 3×3 array from above and reshape it into a 1×9 array\n",
    "# 8. Create with arange\n",
    "#    Create a 1D array of numbers from 0 to 20 with step size 2.\n",
    "# 9. Create with linspace\n",
    "#    Create an array of 10 equally spaced numbers between 0 and 1."
   ]
  },
  {
   "cell_type": "code",
   "execution_count": null,
   "id": "54674230-2cac-4a5a-822f-94cdd98f92b8",
   "metadata": {},
   "outputs": [],
   "source": []
  }
 ],
 "metadata": {
  "kernelspec": {
   "display_name": "Python 3 (ipykernel)",
   "language": "python",
   "name": "python3"
  },
  "language_info": {
   "codemirror_mode": {
    "name": "ipython",
    "version": 3
   },
   "file_extension": ".py",
   "mimetype": "text/x-python",
   "name": "python",
   "nbconvert_exporter": "python",
   "pygments_lexer": "ipython3",
   "version": "3.11.7"
  }
 },
 "nbformat": 4,
 "nbformat_minor": 5
}
